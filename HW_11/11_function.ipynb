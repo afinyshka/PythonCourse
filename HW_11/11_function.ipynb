{
 "cells": [
  {
   "cell_type": "markdown",
   "id": "64669c82",
   "metadata": {},
   "source": [
    "## Задание"
   ]
  },
  {
   "cell_type": "markdown",
   "id": "758a67de",
   "metadata": {},
   "source": [
    "Дана функция f(x) = -12x^4*sin(cos(x)) - 18x^3+5x^2 + 10x - 30\n",
    "\n",
    "1. Определить корни\n",
    "\n",
    "2. Найти интервалы, на которых функция возрастает\n",
    "\n",
    "3. Найти интервалы, на которых функция убывает\n",
    "\n",
    "4. Построить график\n",
    "\n",
    "5. Вычислить вершину\n",
    "\n",
    "6. Определить промежутки, на котором f > 0\n",
    "\n",
    "7. Определить промежутки, на котором f < 0"
   ]
  },
  {
   "cell_type": "markdown",
   "id": "fbc6fef0",
   "metadata": {},
   "source": [
    "## Библиотеки"
   ]
  },
  {
   "cell_type": "code",
   "execution_count": 1,
   "id": "fee14275",
   "metadata": {},
   "outputs": [],
   "source": [
    "from sympy import diff, symbols, sin, cos, solve, solveset, Eq\n",
    "from sympy.plotting import plot"
   ]
  },
  {
   "cell_type": "markdown",
   "id": "255e067e",
   "metadata": {},
   "source": [
    "## График функции"
   ]
  },
  {
   "cell_type": "code",
   "execution_count": 2,
   "id": "7cbb8f57",
   "metadata": {},
   "outputs": [
    {
     "data": {
      "image/png": "[encoded data removed]",
      "text/plain": [
       "<Figure size 432x288 with 1 Axes>"
      ]
     },
     "metadata": {
      "needs_background": "light"
     },
     "output_type": "display_data"
    },
    {
     "data": {
      "text/plain": [
       "<sympy.plotting.plot.Plot at 0x10c499930>"
      ]
     },
     "execution_count": 2,
     "metadata": {},
     "output_type": "execute_result"
    }
   ],
   "source": [
    "x, y = symbols('x y')\n",
    "\n",
    "# the function, y = -12x^4*sin(cos(x)) - 18x^3+5x^2 + 10x - 30 here\n",
    "y = -12 * x**4 * sin(cos(x)) - 18 * x**3 + 5 * x**2 + 10 * x - 30\n",
    "\n",
    "plot(y, (x, -50, 50))"
   ]
  },
  {
   "cell_type": "markdown",
   "id": "b0bf60ca",
   "metadata": {},
   "source": [
    "## Корни уравнения"
   ]
  },
  {
   "cell_type": "code",
   "execution_count": 3,
   "id": "a6a80536",
   "metadata": {},
   "outputs": [
    {
     "data": {
      "text/latex": [
       "$\\displaystyle \\left\\{x\\; \\middle|\\; x \\in \\mathbb{C} \\wedge - 12 x^{4} \\sin{\\left(\\cos{\\left(x \\right)} \\right)} - 18 x^{3} + 5 x^{2} + 10 x - 30 = 0 \\right\\}$"
      ],
      "text/plain": [
       "ConditionSet(x, Eq(-12*x**4*sin(cos(x)) - 18*x**3 + 5*x**2 + 10*x - 30, 0), Complexes)"
      ]
     },
     "execution_count": 3,
     "metadata": {},
     "output_type": "execute_result"
    }
   ],
   "source": [
    "solveset(Eq(-12 * x**4 * sin(cos(x)) - 18 * x**3 + 5 * x**2 + 10 * x - 30, 0), x)"
   ]
  },
  {
   "cell_type": "markdown",
   "id": "6009e1f5",
   "metadata": {},
   "source": [
    "## Производная"
   ]
  },
  {
   "cell_type": "code",
   "execution_count": 17,
   "id": "faebbac2",
   "metadata": {},
   "outputs": [
    {
     "name": "stdout",
     "output_type": "stream",
     "text": [
      "12*x**4*sin(x)*cos(cos(x)) - 48*x**3*sin(cos(x)) - 54*x**2 + 10*x + 10\n"
     ]
    }
   ],
   "source": [
    "y_1 = diff(y)\n",
    "print(y_1)"
   ]
  },
  {
   "cell_type": "markdown",
   "id": "787a44ad",
   "metadata": {},
   "source": [
    "## Экструмумы функции"
   ]
  },
  {
   "cell_type": "code",
   "execution_count": 14,
   "id": "d1fbde58",
   "metadata": {},
   "outputs": [
    {
     "data": {
      "text/latex": [
       "$\\displaystyle \\left\\{x\\; \\middle|\\; x \\in \\mathbb{C} \\wedge 12 x^{4} \\sin{\\left(x \\right)} \\cos{\\left(\\cos{\\left(x \\right)} \\right)} - 48 x^{3} \\sin{\\left(\\cos{\\left(x \\right)} \\right)} - 54 x^{2} + 10 x + 10 = 0 \\right\\}$"
      ],
      "text/plain": [
       "ConditionSet(x, Eq(12*x**4*sin(x)*cos(cos(x)) - 48*x**3*sin(cos(x)) - 54*x**2 + 10*x + 10, 0), Complexes)"
      ]
     },
     "execution_count": 14,
     "metadata": {},
     "output_type": "execute_result"
    }
   ],
   "source": [
    "solveset(Eq(y_1, 0), x)"
   ]
  },
  {
   "cell_type": "markdown",
   "id": "b348d5c6",
   "metadata": {},
   "source": [
    "1. Уравнение имеет бесконечное множество корней\n",
    "\n",
    "2. экстремумов функции бесконечное множество\n",
    "\n",
    "3. интервалов возрастания и убывания функции бесконечное множество\n",
    "\n",
    "4. y > 0 на бесконечном множестве интервалов\n",
    "\n",
    "5. y < 0 на бесконечном множестве интервалов"
   ]
  },
  {
   "cell_type": "code",
   "execution_count": null,
   "id": "4f412298",
   "metadata": {},
   "outputs": [],
   "source": []
  }
 ],
 "metadata": {
  "kernelspec": {
   "display_name": "Python 3 (ipykernel)",
   "language": "python",
   "name": "python3"
  },
  "language_info": {
   "codemirror_mode": {
    "name": "ipython",
    "version": 3
   },
   "file_extension": ".py",
   "mimetype": "text/x-python",
   "name": "python",
   "nbconvert_exporter": "python",
   "pygments_lexer": "ipython3",
   "version": "3.10.5"
  }
 },
 "nbformat": 4,
 "nbformat_minor": 5
}
