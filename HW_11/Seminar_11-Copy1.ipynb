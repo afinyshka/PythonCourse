{
 "cells": [
  {
   "cell_type": "code",
   "execution_count": 4,
   "id": "585b00b4",
   "metadata": {},
   "outputs": [],
   "source": [
    "a = 4"
   ]
  },
  {
   "cell_type": "code",
   "execution_count": 5,
   "id": "42c8660a",
   "metadata": {},
   "outputs": [],
   "source": [
    "b = a + 4"
   ]
  },
  {
   "cell_type": "code",
   "execution_count": 6,
   "id": "adb718ca",
   "metadata": {
    "scrolled": true
   },
   "outputs": [
    {
     "name": "stdout",
     "output_type": "stream",
     "text": [
      "4\n"
     ]
    }
   ],
   "source": [
    "print(a)"
   ]
  },
  {
   "cell_type": "markdown",
   "id": "a8c989b1",
   "metadata": {},
   "source": [
    "Дана функция f(x) = 5x^2 + 10x - 30\n",
    "\n",
    "1. Определить корни\n",
    "\n",
    "2. Найти интервалы, на которых функция возрастает\n",
    "\n",
    "3. Найти интервалы, на которых функция убывает\n",
    "\n",
    "4. Построить график\n",
    "\n",
    "5. Вычислить вершину\n",
    "\n",
    "6. Определить промежутки, на котором f > 0\n",
    "\n",
    "7. Определить промежутки, на котором f < 0"
   ]
  },
  {
   "cell_type": "code",
   "execution_count": 35,
   "id": "1aaf044c",
   "metadata": {},
   "outputs": [],
   "source": [
    "import matplotlib.pyplot as plt\n",
    "import numpy as np\n",
    "import cmath\n",
    "from sympy import diff, symbols, sin, cos"
   ]
  },
  {
   "cell_type": "markdown",
   "id": "e2a7863f",
   "metadata": {},
   "source": [
    "## Определим корни функции"
   ]
  },
  {
   "cell_type": "code",
   "execution_count": 29,
   "id": "7b67f237",
   "metadata": {},
   "outputs": [
    {
     "name": "stdout",
     "output_type": "stream",
     "text": [
      "The solution are (-3.6457513110645907+0j) and (1.6457513110645905+0j)\n"
     ]
    }
   ],
   "source": [
    "a = 5\n",
    "b = 10\n",
    "c = -30\n",
    "\n",
    "d =(b**2) -(4*a*c) \n",
    " \n",
    "sol1 =(-b-cmath.sqrt(d))/(2*a) \n",
    "sol2 =(-b+cmath.sqrt(d))/(2*a) \n",
    "print('The solution are {0} and {1}'.format(sol1,sol2))"
   ]
  },
  {
   "cell_type": "markdown",
   "id": "b4003439",
   "metadata": {},
   "source": [
    "## Функция"
   ]
  },
  {
   "cell_type": "code",
   "execution_count": 30,
   "id": "fe207d9b",
   "metadata": {},
   "outputs": [
    {
     "data": {
      "image/png": "[encoded data removed]",
      "text/plain": [
       "<Figure size 432x288 with 1 Axes>"
      ]
     },
     "metadata": {
      "needs_background": "light"
     },
     "output_type": "display_data"
    }
   ],
   "source": [
    "# 100 linearly spaced numbers\n",
    "x = np.linspace(-5,5,100)\n",
    "\n",
    "# the function, which is y = x^2 here\n",
    "y = 5 * x**2 + 10 * x - 30\n",
    "\n",
    "# setting the axes at the centre\n",
    "fig = plt.figure()\n",
    "ax = fig.add_subplot(1, 1, 1)\n",
    "ax.spines['left'].set_position('center')\n",
    "ax.spines['bottom'].set_position('zero')\n",
    "ax.spines['right'].set_color('none')\n",
    "ax.spines['top'].set_color('none')\n",
    "ax.xaxis.set_ticks_position('bottom')\n",
    "ax.yaxis.set_ticks_position('left')\n",
    "\n",
    "# plot the function\n",
    "plt.plot(x,y, 'r')\n",
    "\n",
    "plt.plot(-1, -35, 'bo')\n",
    "\n",
    "# show the plot\n",
    "plt.show()"
   ]
  },
  {
   "cell_type": "markdown",
   "id": "ced66ebe",
   "metadata": {},
   "source": [
    "## производная"
   ]
  },
  {
   "cell_type": "code",
   "execution_count": 31,
   "id": "a7168383",
   "metadata": {},
   "outputs": [
    {
     "data": {
      "text/latex": [
       "$\\displaystyle 10 x + 10$"
      ],
      "text/plain": [
       "10*x + 10"
      ]
     },
     "execution_count": 31,
     "metadata": {},
     "output_type": "execute_result"
    }
   ],
   "source": [
    "x, y = symbols('x y')\n",
    "diff(5 * x**2 + 10 * x - 30)"
   ]
  },
  {
   "cell_type": "markdown",
   "id": "d2e7b255",
   "metadata": {},
   "source": [
    "## минимум"
   ]
  },
  {
   "cell_type": "code",
   "execution_count": 32,
   "id": "937d8dca",
   "metadata": {},
   "outputs": [
    {
     "name": "stdout",
     "output_type": "stream",
     "text": [
      "-35\n"
     ]
    }
   ],
   "source": [
    "x = -1\n",
    "y = 5 * x**2 + 10 * x - 30\n",
    "print(y)"
   ]
  },
  {
   "cell_type": "code",
   "execution_count": 29,
   "id": "59ef9969",
   "metadata": {},
   "outputs": [],
   "source": [
    "from sympy import diff, symbols, sin, cos, solve, solveset, Eq, sqrt\n",
    "from sympy.plotting import plot"
   ]
  },
  {
   "cell_type": "markdown",
   "id": "59fb8ce4",
   "metadata": {},
   "source": [
    "## График функции"
   ]
  },
  {
   "cell_type": "code",
   "execution_count": 30,
   "id": "903efa7a",
   "metadata": {},
   "outputs": [
    {
     "name": "stdout",
     "output_type": "stream",
     "text": [
      "[-1 + sqrt(7), -sqrt(7) - 1]\n",
      "maximum = -40 + 5*(-1 + sqrt(7))**2 + 10*sqrt(7)\n",
      "minimum = -40 - 10*sqrt(7) + 5*(-sqrt(7) - 1)**2\n"
     ]
    }
   ],
   "source": [
    "x, y = symbols('x y')\n",
    "solve(Eq(5 * x**2 + 10 * x - 30, 0), x)\n",
    "x_mass = solve(Eq(5 * x**2 + 10 * x - 30, 0), x)\n",
    "print(x_mass)\n",
    "if x_mass[0] > 0:\n",
    "    ex_max = x_mass[0]\n",
    "    ex_min = x_mass[1]\n",
    "else:\n",
    "    ex_max = x_mass[1]\n",
    "    ex_min = x_mass[0]\n",
    "x = ex_max\n",
    "y = 5 * x**2 + 10 * x - 30\n",
    "print(f\"maximum = {eval(str(y))}\")\n",
    "x = ex_min\n",
    "y = 5 * x**2 + 10 * x - 30\n",
    "print(f\"minimum = {y}\")"
   ]
  },
  {
   "cell_type": "code",
   "execution_count": null,
   "id": "33fc3072",
   "metadata": {},
   "outputs": [],
   "source": []
  },
  {
   "cell_type": "code",
   "execution_count": null,
   "id": "6cda069d",
   "metadata": {},
   "outputs": [],
   "source": []
  }
 ],
 "metadata": {
  "kernelspec": {
   "display_name": "Python 3 (ipykernel)",
   "language": "python",
   "name": "python3"
  },
  "language_info": {
   "codemirror_mode": {
    "name": "ipython",
    "version": 3
   },
   "file_extension": ".py",
   "mimetype": "text/x-python",
   "name": "python",
   "nbconvert_exporter": "python",
   "pygments_lexer": "ipython3",
   "version": "3.10.5"
  }
 },
 "nbformat": 4,
 "nbformat_minor": 5
}
